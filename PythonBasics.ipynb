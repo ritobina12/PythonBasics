{
  "nbformat": 4,
  "nbformat_minor": 0,
  "metadata": {
    "colab": {
      "provenance": []
    },
    "kernelspec": {
      "name": "python3",
      "display_name": "Python 3"
    },
    "language_info": {
      "name": "python"
    }
  },
  "cells": [
    {
      "cell_type": "markdown",
      "source": [
        "#Python Basics Questions"
      ],
      "metadata": {
        "id": "kbpY01Y0ZtUv"
      }
    },
    {
      "cell_type": "markdown",
      "source": [
        "\n",
        "1. What is Python, and why is it popular?\n",
        "\n",
        "Answer:\n",
        " Python is a high-level, interpreted programming language known for its simplicity and readability. It is popular because:\n",
        "It has a simple syntax close to English.\n",
        "\n",
        "\n",
        "It supports multiple programming paradigms (procedural, object-oriented, functional).\n",
        "\n",
        "\n",
        "It has a large standard library and active community.\n",
        "\n",
        "\n",
        "It is widely used in web development, data science, AI, automation, and more.\n",
        "\n",
        "\n",
        "\n",
        "2. What is an interpreter in Python?\n",
        "\n",
        "Answer:\n",
        " An interpreter is a program that reads and executes Python code line by line. Python is an interpreted language, which means the source code is not compiled but executed directly using an interpreter like CPython.\n",
        "\n",
        "3. What are pre-defined keywords in Python?\n",
        "\n",
        "Answer:\n",
        " Pre-defined keywords in Python are reserved words that have special meaning in the language syntax, such as if, else, while, for, def, return, etc. They cannot be used for variable names.\n",
        "\n",
        "4. Can keywords be used as variable names?\n",
        "\n",
        "Answer:\n",
        " No, keywords cannot be used as variable names because they are reserved for specific programming purposes and using them would cause a syntax error.\n",
        "\n",
        "5. What is mutability in Python?\n",
        "\n",
        "Answer:\n",
        " Mutability refers to whether an object’s value can be changed after it is created. Mutable objects (like lists and dictionaries) can be changed, while immutable objects (like strings and tuples) cannot.\n",
        "\n",
        "6. Why are lists mutable, but tuples are immutable?\n",
        "\n",
        "Answer:\n",
        " Lists are designed for dynamic data manipulation, so they allow modification after creation. Tuples are used for fixed data and integrity, so they are immutable for safety and performance reasons.\n",
        "\n",
        "7. What is the difference between “==” and “is” operators in Python?\n",
        "\n",
        "Answer:\n",
        "== checks value equality (if two objects have the same content).\n",
        "\n",
        "\n",
        "is checks identity (if two variables point to the same memory location).\n",
        "\n",
        "\n",
        "\n",
        "8. What are logical operators in Python?\n",
        "\n",
        "Answer:\n",
        " Logical operators are used to combine conditional statements:\n",
        "\n",
        "and: returns True if both conditions are True\n",
        "\n",
        "\n",
        "or: returns True if at least one condition is True\n",
        "\n",
        "\n",
        "not: reverses the boolean value\n",
        "\n",
        "\n",
        "\n",
        "9. What is type casting in Python?\n",
        "\n",
        "Answer:\n",
        " Type casting is converting one data type to another, such as from integer to string. Example: int(\"10\") converts string \"10\" to integer 10.\n",
        "\n",
        "10. What is the difference between implicit and explicit type casting?\n",
        "\n",
        "Answer:\n",
        "Implicit casting is done automatically by Python (e.g., int to float).\n",
        "\n",
        "\n",
        "Explicit casting is done manually using functions like int(), str(), float().\n",
        "\n",
        "\n",
        "\n",
        "11. What is the purpose of conditional statements in Python?\n",
        "\n",
        "Answer:\n",
        " Conditional statements (if, elif, else) are used to execute different blocks of code based on certain conditions or logical expressions.\n",
        "\n",
        "12. How does the elif statement work?\n",
        "\n",
        "Answer:\n",
        " The elif statement stands for \"else if\". It checks another condition if the previous if condition is False. Only the first True condition block is executed.\n",
        "\n",
        "13. What is the difference between for and while loops?\n",
        "\n",
        "Answer:\n",
        "for loop is used when the number of iterations is known (iterates over sequences).\n",
        "\n",
        "\n",
        "while loop is used when the number of iterations is unknown and depends on a condition.\n",
        "\n",
        "\n",
        "\n",
        "14. Describe a scenario where a while loop is more suitable than a for loop.\n",
        "\n",
        "Answer:\n",
        " A while loop is more suitable when we don’t know how many times a loop needs to run.\n",
        " Example: Repeatedly asking a user for a password until they enter the correct one."
      ],
      "metadata": {
        "id": "9RrhFWGbZ9Nc"
      }
    },
    {
      "cell_type": "markdown",
      "source": [
        "#Practical Questions"
      ],
      "metadata": {
        "id": "XWbWmKv0bWLx"
      }
    },
    {
      "cell_type": "markdown",
      "source": [
        "1. Write a Python program to print \"Hello, World!\"\n"
      ],
      "metadata": {
        "id": "Zy4rmbbPbkf6"
      }
    },
    {
      "cell_type": "code",
      "source": [
        "print(\"Hello, World!\")"
      ],
      "metadata": {
        "colab": {
          "base_uri": "https://localhost:8080/"
        },
        "id": "2g7fv_cJbn44",
        "outputId": "154e285a-0a87-4420-e11f-d04d89c42a98"
      },
      "execution_count": 1,
      "outputs": [
        {
          "output_type": "stream",
          "name": "stdout",
          "text": [
            "Hello, World!\n"
          ]
        }
      ]
    },
    {
      "cell_type": "markdown",
      "source": [
        "2. Write a Python program that displays your name and age.\n"
      ],
      "metadata": {
        "id": "aa0ngmymcIxx"
      }
    },
    {
      "cell_type": "code",
      "source": [
        "name = \"Ritobina Halder\"\n",
        "age = 25\n",
        "print(\"Name:\", name)\n",
        "print(\"Age:\", age)\n"
      ],
      "metadata": {
        "colab": {
          "base_uri": "https://localhost:8080/"
        },
        "id": "Ka8n0UuicL_T",
        "outputId": "94010e3a-7a14-405e-bb74-688161ef4bec"
      },
      "execution_count": 4,
      "outputs": [
        {
          "output_type": "stream",
          "name": "stdout",
          "text": [
            "Name: Ritobina Halder\n",
            "Age: 25\n"
          ]
        }
      ]
    },
    {
      "cell_type": "markdown",
      "source": [
        "3. Write code to print all the pre-defined keywords in Python using the keyword library"
      ],
      "metadata": {
        "id": "Dz1kO2Hvc-Fz"
      }
    },
    {
      "cell_type": "code",
      "source": [
        "import keyword\n",
        "print(\"Python Keywords are:\")\n",
        "print(keyword.kwlist)\n"
      ],
      "metadata": {
        "colab": {
          "base_uri": "https://localhost:8080/"
        },
        "id": "cIrIZDrKdTXj",
        "outputId": "d34b3247-5d0c-4569-d59a-af99902f2056"
      },
      "execution_count": 6,
      "outputs": [
        {
          "output_type": "stream",
          "name": "stdout",
          "text": [
            "Python Keywords are:\n",
            "['False', 'None', 'True', 'and', 'as', 'assert', 'async', 'await', 'break', 'class', 'continue', 'def', 'del', 'elif', 'else', 'except', 'finally', 'for', 'from', 'global', 'if', 'import', 'in', 'is', 'lambda', 'nonlocal', 'not', 'or', 'pass', 'raise', 'return', 'try', 'while', 'with', 'yield']\n"
          ]
        }
      ]
    },
    {
      "cell_type": "markdown",
      "source": [
        "4. Write a program that checks if a given word is a Python keyword"
      ],
      "metadata": {
        "id": "rwfV3eTaicyz"
      }
    },
    {
      "cell_type": "code",
      "source": [
        "import keyword\n",
        "word = input(\"Enter a word: \")\n",
        "if keyword.iskeyword(word):\n",
        "    print(f\"{word} is a Python keyword.\")\n",
        "else:\n",
        "    print(f\"{word} is not a Python keyword.\")\n"
      ],
      "metadata": {
        "colab": {
          "base_uri": "https://localhost:8080/"
        },
        "id": "bNs5N28sikH2",
        "outputId": "2df2ff0e-21ce-4849-e7b8-c466e4d18e80"
      },
      "execution_count": 8,
      "outputs": [
        {
          "output_type": "stream",
          "name": "stdout",
          "text": [
            "Enter a word: giu\n",
            "giu is not a Python keyword.\n"
          ]
        }
      ]
    },
    {
      "cell_type": "markdown",
      "source": [
        "5. Write a function to demonstrate the behavior of mutable and immutable arguments"
      ],
      "metadata": {
        "id": "pzH1DGD2i-1s"
      }
    },
    {
      "cell_type": "code",
      "source": [
        "def modify_data(a, b):\n",
        "    a += 1           # Immutable (int)\n",
        "    b.append(4)      # Mutable (list)\n",
        "\n",
        "x = 10\n",
        "y = [1, 2, 3]\n",
        "modify_data(x, y)\n",
        "print(\"x (immutable):\", x)  # Output: 10\n",
        "print(\"y (mutable):\", y)    # Output: [1, 2, 3, 4]\n"
      ],
      "metadata": {
        "colab": {
          "base_uri": "https://localhost:8080/"
        },
        "id": "cnCSVE7ejAPO",
        "outputId": "7de506f9-4f37-4ca4-aba0-8a260aeadf0a"
      },
      "execution_count": 9,
      "outputs": [
        {
          "output_type": "stream",
          "name": "stdout",
          "text": [
            "x (immutable): 10\n",
            "y (mutable): [1, 2, 3, 4]\n"
          ]
        }
      ]
    },
    {
      "cell_type": "markdown",
      "source": [
        "6. Write a program that performs basic arithmetic operations on two user-input numbers"
      ],
      "metadata": {
        "id": "7Ih1k5ICjWMh"
      }
    },
    {
      "cell_type": "code",
      "source": [
        "a = float(input(\"Enter first number: \"))\n",
        "b = float(input(\"Enter second number: \"))\n",
        "\n",
        "print(\"Addition:\", a + b)\n",
        "print(\"Subtraction:\", a - b)\n",
        "print(\"Multiplication:\", a * b)\n",
        "print(\"Division:\", a / b if b != 0 else \"Cannot divide by zero\")\n"
      ],
      "metadata": {
        "colab": {
          "base_uri": "https://localhost:8080/"
        },
        "id": "n2IeFdsHjaiM",
        "outputId": "2320e4c0-0249-4ee2-f130-b689b69bb01d"
      },
      "execution_count": 10,
      "outputs": [
        {
          "output_type": "stream",
          "name": "stdout",
          "text": [
            "Enter first number: 12\n",
            "Enter second number: 10\n",
            "Addition: 22.0\n",
            "Subtraction: 2.0\n",
            "Multiplication: 120.0\n",
            "Division: 1.2\n"
          ]
        }
      ]
    },
    {
      "cell_type": "markdown",
      "source": [
        "7. Write a program to demonstrate the use of logical operators"
      ],
      "metadata": {
        "id": "T-feD_yojvKV"
      }
    },
    {
      "cell_type": "code",
      "source": [
        "x = 5\n",
        "y = 10\n",
        "\n",
        "print(\"x > 0 and y > 0:\", x > 0 and y > 0)  # True\n",
        "print(\"x < 0 or y > 0:\", x < 0 or y > 0)    # True\n",
        "print(\"not(x > 0):\", not(x > 0))            # False\n"
      ],
      "metadata": {
        "colab": {
          "base_uri": "https://localhost:8080/"
        },
        "id": "4tmyuyi5jxk4",
        "outputId": "991a4e44-cc02-44d8-ce06-14aecbd91aa2"
      },
      "execution_count": 11,
      "outputs": [
        {
          "output_type": "stream",
          "name": "stdout",
          "text": [
            "x > 0 and y > 0: True\n",
            "x < 0 or y > 0: True\n",
            "not(x > 0): False\n"
          ]
        }
      ]
    },
    {
      "cell_type": "markdown",
      "source": [
        "8. Create a list and tuple in Python, and demonstrate how attempting to change an element works differently for each"
      ],
      "metadata": {
        "id": "vmMecuq6j8Y2"
      }
    },
    {
      "cell_type": "code",
      "source": [
        "my_list = [1, 2, 3]\n",
        "my_tuple = (1, 2, 3)\n",
        "\n",
        "# Changing list element (Allowed)\n",
        "my_list[0] = 100\n",
        "print(\"Modified list:\", my_list)\n",
        "\n",
        "# Changing tuple element (Not Allowed)\n",
        "# my_tuple[0] = 100  # This will raise a TypeError\n"
      ],
      "metadata": {
        "colab": {
          "base_uri": "https://localhost:8080/"
        },
        "id": "p-A5pcomkB__",
        "outputId": "9dc372c7-68d4-4e4b-83d5-9f7817ada446"
      },
      "execution_count": 12,
      "outputs": [
        {
          "output_type": "stream",
          "name": "stdout",
          "text": [
            "Modified list: [100, 2, 3]\n"
          ]
        }
      ]
    },
    {
      "cell_type": "markdown",
      "source": [
        "9. Write a Python program to convert user input from string to integer, float, and boolean types"
      ],
      "metadata": {
        "id": "nx6Akx2kkH6O"
      }
    },
    {
      "cell_type": "code",
      "source": [
        "user_input = input(\"Enter a value: \")\n",
        "print(\"Integer:\", int(user_input))\n",
        "print(\"Float:\", float(user_input))\n",
        "print(\"Boolean:\", bool(user_input))\n"
      ],
      "metadata": {
        "colab": {
          "base_uri": "https://localhost:8080/"
        },
        "id": "3Wpbo3BakKn7",
        "outputId": "ca3a5ce0-849f-4dc0-9d50-8e6d22a3ed49"
      },
      "execution_count": 13,
      "outputs": [
        {
          "output_type": "stream",
          "name": "stdout",
          "text": [
            "Enter a value: 12\n",
            "Integer: 12\n",
            "Float: 12.0\n",
            "Boolean: True\n"
          ]
        }
      ]
    },
    {
      "cell_type": "markdown",
      "source": [
        "10. Write code to demonstrate type casting with list elements"
      ],
      "metadata": {
        "id": "_5jG5ApnkbQE"
      }
    },
    {
      "cell_type": "code",
      "source": [
        "str_list = [\"1\", \"2\", \"3\"]\n",
        "int_list = [int(i) for i in str_list]\n",
        "print(\"Original list:\", str_list)\n",
        "print(\"Converted to integers:\", int_list)\n"
      ],
      "metadata": {
        "colab": {
          "base_uri": "https://localhost:8080/"
        },
        "id": "wIwchsBckNo3",
        "outputId": "8812c52d-f146-4073-a818-19cc865fe831"
      },
      "execution_count": 14,
      "outputs": [
        {
          "output_type": "stream",
          "name": "stdout",
          "text": [
            "Original list: ['1', '2', '3']\n",
            "Converted to integers: [1, 2, 3]\n"
          ]
        }
      ]
    },
    {
      "cell_type": "markdown",
      "source": [
        "11. Write a program that checks if a number is positive, negative, or zero"
      ],
      "metadata": {
        "id": "-PX8lH0NksxC"
      }
    },
    {
      "cell_type": "code",
      "source": [
        "num = float(input(\"Enter a number: \"))\n",
        "if num > 0:\n",
        "    print(\"Positive\")\n",
        "elif num < 0:\n",
        "    print(\"Negative\")\n",
        "else:\n",
        "    print(\"Zero\")\n"
      ],
      "metadata": {
        "colab": {
          "base_uri": "https://localhost:8080/"
        },
        "id": "ZjosGi-Bkthl",
        "outputId": "78df346d-f047-4e8c-8495-083fd37a57a5"
      },
      "execution_count": 15,
      "outputs": [
        {
          "output_type": "stream",
          "name": "stdout",
          "text": [
            "Enter a number: 12\n",
            "Positive\n"
          ]
        }
      ]
    },
    {
      "cell_type": "markdown",
      "source": [
        "12. Write a for loop to print numbers from 1 to 10"
      ],
      "metadata": {
        "id": "NOTjIPwQk38Y"
      }
    },
    {
      "cell_type": "code",
      "source": [
        "for i in range(1, 11):\n",
        "    print(i)\n"
      ],
      "metadata": {
        "colab": {
          "base_uri": "https://localhost:8080/"
        },
        "id": "lx-EloWqk5NP",
        "outputId": "30a09444-493d-45ed-d1f9-2bc5149bc810"
      },
      "execution_count": 16,
      "outputs": [
        {
          "output_type": "stream",
          "name": "stdout",
          "text": [
            "1\n",
            "2\n",
            "3\n",
            "4\n",
            "5\n",
            "6\n",
            "7\n",
            "8\n",
            "9\n",
            "10\n"
          ]
        }
      ]
    },
    {
      "cell_type": "markdown",
      "source": [
        "13. Write a Python program to find the sum of all even numbers between 1 and 50"
      ],
      "metadata": {
        "id": "WJIG1JOylBh3"
      }
    },
    {
      "cell_type": "code",
      "source": [
        "sum_even = 0\n",
        "for i in range(2, 51, 2):\n",
        "    sum_even += i\n",
        "print(\"Sum of even numbers from 1 to 50:\", sum_even)\n"
      ],
      "metadata": {
        "colab": {
          "base_uri": "https://localhost:8080/"
        },
        "id": "GAujd5LilCXv",
        "outputId": "65fc3986-9d21-43e2-c52f-7a5f278a66f8"
      },
      "execution_count": 17,
      "outputs": [
        {
          "output_type": "stream",
          "name": "stdout",
          "text": [
            "Sum of even numbers from 1 to 50: 650\n"
          ]
        }
      ]
    },
    {
      "cell_type": "markdown",
      "source": [
        "\n",
        "14. Write a program to reverse a string using a while loop"
      ],
      "metadata": {
        "id": "66-z6FwslNuQ"
      }
    },
    {
      "cell_type": "code",
      "source": [
        "text = input(\"Enter a string: \")\n",
        "i = len(text) - 1\n",
        "reversed_str = \"\"\n",
        "while i >= 0:\n",
        "    reversed_str += text[i]\n",
        "    i -= 1\n",
        "print(\"Reversed string:\", reversed_str)\n"
      ],
      "metadata": {
        "colab": {
          "base_uri": "https://localhost:8080/"
        },
        "id": "Whi7vK02lE47",
        "outputId": "c75dc773-d685-4ee6-a690-85704905ff6b"
      },
      "execution_count": 18,
      "outputs": [
        {
          "output_type": "stream",
          "name": "stdout",
          "text": [
            "Enter a string: sh\n",
            "Reversed string: hs\n"
          ]
        }
      ]
    },
    {
      "cell_type": "markdown",
      "source": [
        "15. Write a Python program to calculate the factorial of a number provided by the user using a while loop"
      ],
      "metadata": {
        "id": "WmNG7yaLlciY"
      }
    },
    {
      "cell_type": "code",
      "source": [
        "n = int(input(\"Enter a number: \"))\n",
        "fact = 1\n",
        "i = 1\n",
        "while i <= n:\n",
        "    fact *= i\n",
        "    i += 1\n",
        "print(\"Factorial of\", n, \"is\", fact)\n"
      ],
      "metadata": {
        "colab": {
          "base_uri": "https://localhost:8080/"
        },
        "id": "kY-hPYV0lSJH",
        "outputId": "ed2249d9-9d86-4bf2-f86e-9bbc98d9d958"
      },
      "execution_count": 19,
      "outputs": [
        {
          "output_type": "stream",
          "name": "stdout",
          "text": [
            "Enter a number: 12\n",
            "Factorial of 12 is 479001600\n"
          ]
        }
      ]
    }
  ]
}